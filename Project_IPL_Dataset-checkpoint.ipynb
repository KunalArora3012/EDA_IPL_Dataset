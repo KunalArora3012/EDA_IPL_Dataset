{
 "cells": [
  {
   "cell_type": "markdown",
   "id": "cfe6ab4c",
   "metadata": {},
   "source": [
    "# EDA PROJECT ON  IPL DATASET\n",
    "Q1. What is the maximum number of matches played by an individual player in a season?\n",
    "\n",
    "Q2. What is the highest average of a player in a season?\n",
    "\n",
    "Q3. What is the average number of matches played by a player in a season?\n",
    "\n",
    "Q4. Please check the correlation between all the features.\n",
    "\n",
    "Q5. Check the list of players who has an average greater than 50 as well strike rate above 120.\n",
    "\n",
    "Q6. Please check the list of players who has an average greater than 40 and balls faced above 100.\n",
    "\n",
    "Q7. Please check the list of players who scored more than 300 runs with an average greater than 45 & strike rate above 130.\n",
    "\n",
    "Q8. Players who scroed alteast one century in this season.\n",
    "\n",
    "Q9. Players who scored atleast 4 half centuries in this season.\n",
    "\n",
    "Q10. Check the list of players who hit more than 45 boundARIES and more than 10 sixes in this season.\n",
    "\n",
    "Q11. Plot a histogram of number of matches played in a season by players.\n",
    "\n",
    "Q12. Plot the histogram of balls faced by players.\n",
    "\n",
    "Q13. Top 30 players with most runs in a season v/s matches played.\n",
    "\n",
    "Q14. Bar chart for top 20 players with best strike rate in a season.\n",
    "\n",
    "Q15. Top 30 players with highest number of sixes.\n",
    "\n",
    "Q16. Scatter plot of runs scored by a player v/s balls faced in a season.\n",
    "\n",
    "Q17. KDE plot for averages on a season.\n"
   ]
  },
  {
   "cell_type": "code",
   "execution_count": 1,
   "id": "ff3658ac",
   "metadata": {},
   "outputs": [],
   "source": [
    "import pandas as pd \n",
    "import numpy as np \n",
    "import matplotlib.pyplot as plt \n",
    "import seaborn as sns \n",
    "%matplotlib inline \n"
   ]
  },
  {
   "cell_type": "code",
   "execution_count": 2,
   "id": "3f63dbbd",
   "metadata": {},
   "outputs": [],
   "source": [
    "df=pd.read_csv('Ipl_Dataset.csv')"
   ]
  },
  {
   "cell_type": "code",
   "execution_count": 3,
   "id": "67c16d48",
   "metadata": {},
   "outputs": [
    {
     "data": {
      "text/html": [
       "<div>\n",
       "<style scoped>\n",
       "    .dataframe tbody tr th:only-of-type {\n",
       "        vertical-align: middle;\n",
       "    }\n",
       "\n",
       "    .dataframe tbody tr th {\n",
       "        vertical-align: top;\n",
       "    }\n",
       "\n",
       "    .dataframe thead th {\n",
       "        text-align: right;\n",
       "    }\n",
       "</style>\n",
       "<table border=\"1\" class=\"dataframe\">\n",
       "  <thead>\n",
       "    <tr style=\"text-align: right;\">\n",
       "      <th></th>\n",
       "      <th>POS</th>\n",
       "      <th>Player</th>\n",
       "      <th>Mat</th>\n",
       "      <th>Inns</th>\n",
       "      <th>NO</th>\n",
       "      <th>Runs</th>\n",
       "      <th>HS</th>\n",
       "      <th>Avg</th>\n",
       "      <th>BF</th>\n",
       "      <th>SR</th>\n",
       "      <th>100</th>\n",
       "      <th>50</th>\n",
       "      <th>4s</th>\n",
       "      <th>6s</th>\n",
       "    </tr>\n",
       "  </thead>\n",
       "  <tbody>\n",
       "    <tr>\n",
       "      <th>0</th>\n",
       "      <td>1</td>\n",
       "      <td>KL Rahul</td>\n",
       "      <td>14</td>\n",
       "      <td>14</td>\n",
       "      <td>2</td>\n",
       "      <td>670</td>\n",
       "      <td>132*</td>\n",
       "      <td>55.83</td>\n",
       "      <td>518</td>\n",
       "      <td>129.34</td>\n",
       "      <td>1</td>\n",
       "      <td>5</td>\n",
       "      <td>58</td>\n",
       "      <td>23</td>\n",
       "    </tr>\n",
       "    <tr>\n",
       "      <th>1</th>\n",
       "      <td>2</td>\n",
       "      <td>Shikhar Dhawan</td>\n",
       "      <td>17</td>\n",
       "      <td>17</td>\n",
       "      <td>3</td>\n",
       "      <td>618</td>\n",
       "      <td>106*</td>\n",
       "      <td>44.14</td>\n",
       "      <td>427</td>\n",
       "      <td>144.73</td>\n",
       "      <td>2</td>\n",
       "      <td>4</td>\n",
       "      <td>67</td>\n",
       "      <td>12</td>\n",
       "    </tr>\n",
       "    <tr>\n",
       "      <th>2</th>\n",
       "      <td>3</td>\n",
       "      <td>David Warner</td>\n",
       "      <td>16</td>\n",
       "      <td>16</td>\n",
       "      <td>2</td>\n",
       "      <td>548</td>\n",
       "      <td>85*</td>\n",
       "      <td>39.14</td>\n",
       "      <td>407</td>\n",
       "      <td>134.64</td>\n",
       "      <td>0</td>\n",
       "      <td>4</td>\n",
       "      <td>52</td>\n",
       "      <td>14</td>\n",
       "    </tr>\n",
       "    <tr>\n",
       "      <th>3</th>\n",
       "      <td>4</td>\n",
       "      <td>Shreyas Iyer</td>\n",
       "      <td>17</td>\n",
       "      <td>17</td>\n",
       "      <td>2</td>\n",
       "      <td>519</td>\n",
       "      <td>88*</td>\n",
       "      <td>34.60</td>\n",
       "      <td>421</td>\n",
       "      <td>123.27</td>\n",
       "      <td>0</td>\n",
       "      <td>3</td>\n",
       "      <td>40</td>\n",
       "      <td>16</td>\n",
       "    </tr>\n",
       "    <tr>\n",
       "      <th>4</th>\n",
       "      <td>5</td>\n",
       "      <td>Ishan Kishan</td>\n",
       "      <td>14</td>\n",
       "      <td>13</td>\n",
       "      <td>4</td>\n",
       "      <td>516</td>\n",
       "      <td>99</td>\n",
       "      <td>57.33</td>\n",
       "      <td>354</td>\n",
       "      <td>145.76</td>\n",
       "      <td>0</td>\n",
       "      <td>4</td>\n",
       "      <td>36</td>\n",
       "      <td>30</td>\n",
       "    </tr>\n",
       "  </tbody>\n",
       "</table>\n",
       "</div>"
      ],
      "text/plain": [
       "   POS          Player  Mat  Inns  NO  Runs    HS    Avg   BF      SR  100  \\\n",
       "0    1        KL Rahul   14    14   2   670  132*  55.83  518  129.34    1   \n",
       "1    2  Shikhar Dhawan   17    17   3   618  106*  44.14  427  144.73    2   \n",
       "2    3    David Warner   16    16   2   548   85*  39.14  407  134.64    0   \n",
       "3    4    Shreyas Iyer   17    17   2   519   88*  34.60  421  123.27    0   \n",
       "4    5    Ishan Kishan   14    13   4   516    99  57.33  354  145.76    0   \n",
       "\n",
       "   50  4s  6s  \n",
       "0   5  58  23  \n",
       "1   4  67  12  \n",
       "2   4  52  14  \n",
       "3   3  40  16  \n",
       "4   4  36  30  "
      ]
     },
     "execution_count": 3,
     "metadata": {},
     "output_type": "execute_result"
    }
   ],
   "source": [
    "df.head()"
   ]
  },
  {
   "cell_type": "code",
   "execution_count": 4,
   "id": "490f2931",
   "metadata": {},
   "outputs": [
    {
     "name": "stdout",
     "output_type": "stream",
     "text": [
      "<class 'pandas.core.frame.DataFrame'>\n",
      "RangeIndex: 133 entries, 0 to 132\n",
      "Data columns (total 14 columns):\n",
      " #   Column  Non-Null Count  Dtype  \n",
      "---  ------  --------------  -----  \n",
      " 0   POS     133 non-null    int64  \n",
      " 1   Player  133 non-null    object \n",
      " 2   Mat     133 non-null    int64  \n",
      " 3   Inns    133 non-null    int64  \n",
      " 4   NO      133 non-null    int64  \n",
      " 5   Runs    133 non-null    int64  \n",
      " 6   HS      133 non-null    object \n",
      " 7   Avg     133 non-null    float64\n",
      " 8   BF      133 non-null    int64  \n",
      " 9   SR      133 non-null    float64\n",
      " 10  100     133 non-null    int64  \n",
      " 11  50      133 non-null    int64  \n",
      " 12  4s      133 non-null    int64  \n",
      " 13  6s      133 non-null    int64  \n",
      "dtypes: float64(2), int64(10), object(2)\n",
      "memory usage: 14.7+ KB\n"
     ]
    }
   ],
   "source": [
    "df.info()"
   ]
  },
  {
   "cell_type": "code",
   "execution_count": 5,
   "id": "0fddc652",
   "metadata": {},
   "outputs": [
    {
     "data": {
      "text/html": [
       "<div>\n",
       "<style scoped>\n",
       "    .dataframe tbody tr th:only-of-type {\n",
       "        vertical-align: middle;\n",
       "    }\n",
       "\n",
       "    .dataframe tbody tr th {\n",
       "        vertical-align: top;\n",
       "    }\n",
       "\n",
       "    .dataframe thead th {\n",
       "        text-align: right;\n",
       "    }\n",
       "</style>\n",
       "<table border=\"1\" class=\"dataframe\">\n",
       "  <thead>\n",
       "    <tr style=\"text-align: right;\">\n",
       "      <th></th>\n",
       "      <th>POS</th>\n",
       "      <th>Mat</th>\n",
       "      <th>Inns</th>\n",
       "      <th>NO</th>\n",
       "      <th>Runs</th>\n",
       "      <th>Avg</th>\n",
       "      <th>BF</th>\n",
       "      <th>SR</th>\n",
       "      <th>100</th>\n",
       "      <th>50</th>\n",
       "      <th>4s</th>\n",
       "      <th>6s</th>\n",
       "    </tr>\n",
       "  </thead>\n",
       "  <tbody>\n",
       "    <tr>\n",
       "      <th>count</th>\n",
       "      <td>133.00000</td>\n",
       "      <td>133.000000</td>\n",
       "      <td>133.000000</td>\n",
       "      <td>133.000000</td>\n",
       "      <td>133.000000</td>\n",
       "      <td>133.000000</td>\n",
       "      <td>133.000000</td>\n",
       "      <td>133.000000</td>\n",
       "      <td>133.000000</td>\n",
       "      <td>133.000000</td>\n",
       "      <td>133.000000</td>\n",
       "      <td>133.000000</td>\n",
       "    </tr>\n",
       "    <tr>\n",
       "      <th>mean</th>\n",
       "      <td>67.00000</td>\n",
       "      <td>9.631579</td>\n",
       "      <td>6.631579</td>\n",
       "      <td>1.616541</td>\n",
       "      <td>139.157895</td>\n",
       "      <td>19.366241</td>\n",
       "      <td>105.714286</td>\n",
       "      <td>107.364737</td>\n",
       "      <td>0.037594</td>\n",
       "      <td>0.827068</td>\n",
       "      <td>11.894737</td>\n",
       "      <td>5.518797</td>\n",
       "    </tr>\n",
       "    <tr>\n",
       "      <th>std</th>\n",
       "      <td>38.53786</td>\n",
       "      <td>4.893523</td>\n",
       "      <td>5.030925</td>\n",
       "      <td>1.550766</td>\n",
       "      <td>167.293103</td>\n",
       "      <td>18.053343</td>\n",
       "      <td>122.253870</td>\n",
       "      <td>44.584031</td>\n",
       "      <td>0.227170</td>\n",
       "      <td>1.351269</td>\n",
       "      <td>15.521375</td>\n",
       "      <td>7.393283</td>\n",
       "    </tr>\n",
       "    <tr>\n",
       "      <th>min</th>\n",
       "      <td>1.00000</td>\n",
       "      <td>1.000000</td>\n",
       "      <td>1.000000</td>\n",
       "      <td>0.000000</td>\n",
       "      <td>0.000000</td>\n",
       "      <td>0.000000</td>\n",
       "      <td>1.000000</td>\n",
       "      <td>0.000000</td>\n",
       "      <td>0.000000</td>\n",
       "      <td>0.000000</td>\n",
       "      <td>0.000000</td>\n",
       "      <td>0.000000</td>\n",
       "    </tr>\n",
       "    <tr>\n",
       "      <th>25%</th>\n",
       "      <td>34.00000</td>\n",
       "      <td>5.000000</td>\n",
       "      <td>2.000000</td>\n",
       "      <td>0.000000</td>\n",
       "      <td>10.000000</td>\n",
       "      <td>6.000000</td>\n",
       "      <td>12.000000</td>\n",
       "      <td>88.750000</td>\n",
       "      <td>0.000000</td>\n",
       "      <td>0.000000</td>\n",
       "      <td>0.000000</td>\n",
       "      <td>0.000000</td>\n",
       "    </tr>\n",
       "    <tr>\n",
       "      <th>50%</th>\n",
       "      <td>67.00000</td>\n",
       "      <td>10.000000</td>\n",
       "      <td>5.000000</td>\n",
       "      <td>1.000000</td>\n",
       "      <td>59.000000</td>\n",
       "      <td>15.000000</td>\n",
       "      <td>53.000000</td>\n",
       "      <td>116.840000</td>\n",
       "      <td>0.000000</td>\n",
       "      <td>0.000000</td>\n",
       "      <td>5.000000</td>\n",
       "      <td>2.000000</td>\n",
       "    </tr>\n",
       "    <tr>\n",
       "      <th>75%</th>\n",
       "      <td>100.00000</td>\n",
       "      <td>14.000000</td>\n",
       "      <td>11.000000</td>\n",
       "      <td>2.000000</td>\n",
       "      <td>232.000000</td>\n",
       "      <td>29.900000</td>\n",
       "      <td>169.000000</td>\n",
       "      <td>137.500000</td>\n",
       "      <td>0.000000</td>\n",
       "      <td>1.000000</td>\n",
       "      <td>20.000000</td>\n",
       "      <td>9.000000</td>\n",
       "    </tr>\n",
       "    <tr>\n",
       "      <th>max</th>\n",
       "      <td>133.00000</td>\n",
       "      <td>17.000000</td>\n",
       "      <td>17.000000</td>\n",
       "      <td>7.000000</td>\n",
       "      <td>670.000000</td>\n",
       "      <td>101.000000</td>\n",
       "      <td>518.000000</td>\n",
       "      <td>191.420000</td>\n",
       "      <td>2.000000</td>\n",
       "      <td>5.000000</td>\n",
       "      <td>67.000000</td>\n",
       "      <td>30.000000</td>\n",
       "    </tr>\n",
       "  </tbody>\n",
       "</table>\n",
       "</div>"
      ],
      "text/plain": [
       "             POS         Mat        Inns          NO        Runs         Avg  \\\n",
       "count  133.00000  133.000000  133.000000  133.000000  133.000000  133.000000   \n",
       "mean    67.00000    9.631579    6.631579    1.616541  139.157895   19.366241   \n",
       "std     38.53786    4.893523    5.030925    1.550766  167.293103   18.053343   \n",
       "min      1.00000    1.000000    1.000000    0.000000    0.000000    0.000000   \n",
       "25%     34.00000    5.000000    2.000000    0.000000   10.000000    6.000000   \n",
       "50%     67.00000   10.000000    5.000000    1.000000   59.000000   15.000000   \n",
       "75%    100.00000   14.000000   11.000000    2.000000  232.000000   29.900000   \n",
       "max    133.00000   17.000000   17.000000    7.000000  670.000000  101.000000   \n",
       "\n",
       "               BF          SR         100          50          4s          6s  \n",
       "count  133.000000  133.000000  133.000000  133.000000  133.000000  133.000000  \n",
       "mean   105.714286  107.364737    0.037594    0.827068   11.894737    5.518797  \n",
       "std    122.253870   44.584031    0.227170    1.351269   15.521375    7.393283  \n",
       "min      1.000000    0.000000    0.000000    0.000000    0.000000    0.000000  \n",
       "25%     12.000000   88.750000    0.000000    0.000000    0.000000    0.000000  \n",
       "50%     53.000000  116.840000    0.000000    0.000000    5.000000    2.000000  \n",
       "75%    169.000000  137.500000    0.000000    1.000000   20.000000    9.000000  \n",
       "max    518.000000  191.420000    2.000000    5.000000   67.000000   30.000000  "
      ]
     },
     "execution_count": 5,
     "metadata": {},
     "output_type": "execute_result"
    }
   ],
   "source": [
    "df.describe()"
   ]
  },
  {
   "cell_type": "code",
   "execution_count": 6,
   "id": "ea03d596",
   "metadata": {},
   "outputs": [
    {
     "data": {
      "text/plain": [
       "POS       0\n",
       "Player    0\n",
       "Mat       0\n",
       "Inns      0\n",
       "NO        0\n",
       "Runs      0\n",
       "HS        0\n",
       "Avg       0\n",
       "BF        0\n",
       "SR        0\n",
       "100       0\n",
       "50        0\n",
       "4s        0\n",
       "6s        0\n",
       "dtype: int64"
      ]
     },
     "execution_count": 6,
     "metadata": {},
     "output_type": "execute_result"
    }
   ],
   "source": [
    "df.isnull().sum()"
   ]
  },
  {
   "cell_type": "code",
   "execution_count": 7,
   "id": "1a11661d",
   "metadata": {},
   "outputs": [
    {
     "data": {
      "text/plain": [
       "<AxesSubplot: >"
      ]
     },
     "execution_count": 7,
     "metadata": {},
     "output_type": "execute_result"
    },
    {
     "data": {
      "image/png": "[encoded data removed]",
      "text/plain": [
       "<Figure size 640x480 with 1 Axes>"
      ]
     },
     "metadata": {},
     "output_type": "display_data"
    }
   ],
   "source": [
    "sns.boxplot(df)"
   ]
  },
  {
   "cell_type": "code",
   "execution_count": 8,
   "id": "df4ca5a4",
   "metadata": {},
   "outputs": [
    {
     "data": {
      "text/plain": [
       "<AxesSubplot: >"
      ]
     },
     "execution_count": 8,
     "metadata": {},
     "output_type": "execute_result"
    },
    {
     "data": {
      "image/png": "[encoded data removed]",
      "text/plain": [
       "<Figure size 640x480 with 1 Axes>"
      ]
     },
     "metadata": {},
     "output_type": "display_data"
    }
   ],
   "source": [
    "sns.boxplot(df['NO'])"
   ]
  },
  {
   "cell_type": "code",
   "execution_count": 9,
   "id": "a4bf7135",
   "metadata": {},
   "outputs": [
    {
     "data": {
      "text/plain": [
       "<AxesSubplot: >"
      ]
     },
     "execution_count": 9,
     "metadata": {},
     "output_type": "execute_result"
    },
    {
     "data": {
      "image/png": "[encoded data removed]",
      "text/plain": [
       "<Figure size 640x480 with 1 Axes>"
      ]
     },
     "metadata": {},
     "output_type": "display_data"
    }
   ],
   "source": [
    "sns.boxplot(df['SR'])"
   ]
  },
  {
   "cell_type": "code",
   "execution_count": 10,
   "id": "5838ac8c",
   "metadata": {},
   "outputs": [
    {
     "data": {
      "text/plain": [
       "<AxesSubplot: >"
      ]
     },
     "execution_count": 10,
     "metadata": {},
     "output_type": "execute_result"
    },
    {
     "data": {
      "image/png": "[encoded data removed]",
      "text/plain": [
       "<Figure size 640x480 with 1 Axes>"
      ]
     },
     "metadata": {},
     "output_type": "display_data"
    }
   ],
   "source": [
    "sns.boxplot(df['Avg'])"
   ]
  },
  {
   "cell_type": "code",
   "execution_count": 11,
   "id": "c4cb43d7",
   "metadata": {},
   "outputs": [
    {
     "data": {
      "text/plain": [
       "<AxesSubplot: >"
      ]
     },
     "execution_count": 11,
     "metadata": {},
     "output_type": "execute_result"
    },
    {
     "data": {
      "image/png": "[encoded data removed]",
      "text/plain": [
       "<Figure size 640x480 with 1 Axes>"
      ]
     },
     "metadata": {},
     "output_type": "display_data"
    }
   ],
   "source": [
    "sns.boxplot(df['BF'])"
   ]
  },
  {
   "cell_type": "code",
   "execution_count": 12,
   "id": "00f59799",
   "metadata": {},
   "outputs": [
    {
     "data": {
      "text/plain": [
       "<AxesSubplot: >"
      ]
     },
     "execution_count": 12,
     "metadata": {},
     "output_type": "execute_result"
    },
    {
     "data": {
      "image/png": "[encoded data removed]",
      "text/plain": [
       "<Figure size 640x480 with 1 Axes>"
      ]
     },
     "metadata": {},
     "output_type": "display_data"
    }
   ],
   "source": [
    "sns.boxplot(df['SR'])"
   ]
  },
  {
   "cell_type": "markdown",
   "id": "a2b2e274",
   "metadata": {},
   "source": [
    " # What is the maximum number of matches played by an individual player in a season?"
   ]
  },
  {
   "cell_type": "code",
   "execution_count": 13,
   "id": "6335d328",
   "metadata": {},
   "outputs": [
    {
     "data": {
      "text/plain": [
       "17"
      ]
     },
     "execution_count": 13,
     "metadata": {},
     "output_type": "execute_result"
    }
   ],
   "source": [
    "df['Mat'].max()"
   ]
  },
  {
   "cell_type": "markdown",
   "id": "2be77d86",
   "metadata": {},
   "source": [
    "# What is the highest average of a player in a season?"
   ]
  },
  {
   "cell_type": "code",
   "execution_count": 14,
   "id": "bf32e08b",
   "metadata": {},
   "outputs": [
    {
     "data": {
      "text/plain": [
       "101.0"
      ]
     },
     "execution_count": 14,
     "metadata": {},
     "output_type": "execute_result"
    }
   ],
   "source": [
    "df['Avg'].max()"
   ]
  },
  {
   "cell_type": "markdown",
   "id": "f1f1b864",
   "metadata": {},
   "source": [
    "# What is the average number of matches played by a player in a season?"
   ]
  },
  {
   "cell_type": "code",
   "execution_count": 15,
   "id": "5e71a3a2",
   "metadata": {},
   "outputs": [
    {
     "data": {
      "text/plain": [
       "9.631578947368421"
      ]
     },
     "execution_count": 15,
     "metadata": {},
     "output_type": "execute_result"
    }
   ],
   "source": [
    "df['Mat'].mean()"
   ]
  },
  {
   "cell_type": "markdown",
   "id": "833cbbf2",
   "metadata": {},
   "source": [
    "# Please check the correlation between all the features."
   ]
  },
  {
   "cell_type": "code",
   "execution_count": 16,
   "id": "9a5cde2a",
   "metadata": {},
   "outputs": [
    {
     "name": "stderr",
     "output_type": "stream",
     "text": [
      "C:\\Users\\acer\\AppData\\Local\\Temp\\ipykernel_3188\\1134722465.py:1: FutureWarning: The default value of numeric_only in DataFrame.corr is deprecated. In a future version, it will default to False. Select only valid columns or specify the value of numeric_only to silence this warning.\n",
      "  df.corr()\n"
     ]
    },
    {
     "data": {
      "text/html": [
       "<div>\n",
       "<style scoped>\n",
       "    .dataframe tbody tr th:only-of-type {\n",
       "        vertical-align: middle;\n",
       "    }\n",
       "\n",
       "    .dataframe tbody tr th {\n",
       "        vertical-align: top;\n",
       "    }\n",
       "\n",
       "    .dataframe thead th {\n",
       "        text-align: right;\n",
       "    }\n",
       "</style>\n",
       "<table border=\"1\" class=\"dataframe\">\n",
       "  <thead>\n",
       "    <tr style=\"text-align: right;\">\n",
       "      <th></th>\n",
       "      <th>POS</th>\n",
       "      <th>Mat</th>\n",
       "      <th>Inns</th>\n",
       "      <th>NO</th>\n",
       "      <th>Runs</th>\n",
       "      <th>Avg</th>\n",
       "      <th>BF</th>\n",
       "      <th>SR</th>\n",
       "      <th>100</th>\n",
       "      <th>50</th>\n",
       "      <th>4s</th>\n",
       "      <th>6s</th>\n",
       "    </tr>\n",
       "  </thead>\n",
       "  <tbody>\n",
       "    <tr>\n",
       "      <th>POS</th>\n",
       "      <td>1.000000</td>\n",
       "      <td>-0.556695</td>\n",
       "      <td>-0.916174</td>\n",
       "      <td>-0.386247</td>\n",
       "      <td>-0.896664</td>\n",
       "      <td>-0.746510</td>\n",
       "      <td>-0.891969</td>\n",
       "      <td>-0.730489</td>\n",
       "      <td>-0.248353</td>\n",
       "      <td>-0.769577</td>\n",
       "      <td>-0.846965</td>\n",
       "      <td>-0.808756</td>\n",
       "    </tr>\n",
       "    <tr>\n",
       "      <th>Mat</th>\n",
       "      <td>-0.556695</td>\n",
       "      <td>1.000000</td>\n",
       "      <td>0.728358</td>\n",
       "      <td>0.555261</td>\n",
       "      <td>0.565237</td>\n",
       "      <td>0.306128</td>\n",
       "      <td>0.555102</td>\n",
       "      <td>0.371328</td>\n",
       "      <td>0.128405</td>\n",
       "      <td>0.455437</td>\n",
       "      <td>0.522628</td>\n",
       "      <td>0.523367</td>\n",
       "    </tr>\n",
       "    <tr>\n",
       "      <th>Inns</th>\n",
       "      <td>-0.916174</td>\n",
       "      <td>0.728358</td>\n",
       "      <td>1.000000</td>\n",
       "      <td>0.464356</td>\n",
       "      <td>0.895914</td>\n",
       "      <td>0.585148</td>\n",
       "      <td>0.889753</td>\n",
       "      <td>0.581468</td>\n",
       "      <td>0.224328</td>\n",
       "      <td>0.755027</td>\n",
       "      <td>0.846749</td>\n",
       "      <td>0.810922</td>\n",
       "    </tr>\n",
       "    <tr>\n",
       "      <th>NO</th>\n",
       "      <td>-0.386247</td>\n",
       "      <td>0.555261</td>\n",
       "      <td>0.464356</td>\n",
       "      <td>1.000000</td>\n",
       "      <td>0.308747</td>\n",
       "      <td>0.429888</td>\n",
       "      <td>0.271021</td>\n",
       "      <td>0.415060</td>\n",
       "      <td>0.019726</td>\n",
       "      <td>0.174184</td>\n",
       "      <td>0.204779</td>\n",
       "      <td>0.391472</td>\n",
       "    </tr>\n",
       "    <tr>\n",
       "      <th>Runs</th>\n",
       "      <td>-0.896664</td>\n",
       "      <td>0.565237</td>\n",
       "      <td>0.895914</td>\n",
       "      <td>0.308747</td>\n",
       "      <td>1.000000</td>\n",
       "      <td>0.687475</td>\n",
       "      <td>0.989948</td>\n",
       "      <td>0.517678</td>\n",
       "      <td>0.382577</td>\n",
       "      <td>0.912264</td>\n",
       "      <td>0.959576</td>\n",
       "      <td>0.861166</td>\n",
       "    </tr>\n",
       "    <tr>\n",
       "      <th>Avg</th>\n",
       "      <td>-0.746510</td>\n",
       "      <td>0.306128</td>\n",
       "      <td>0.585148</td>\n",
       "      <td>0.429888</td>\n",
       "      <td>0.687475</td>\n",
       "      <td>1.000000</td>\n",
       "      <td>0.664173</td>\n",
       "      <td>0.591306</td>\n",
       "      <td>0.233726</td>\n",
       "      <td>0.638326</td>\n",
       "      <td>0.623643</td>\n",
       "      <td>0.646224</td>\n",
       "    </tr>\n",
       "    <tr>\n",
       "      <th>BF</th>\n",
       "      <td>-0.891969</td>\n",
       "      <td>0.555102</td>\n",
       "      <td>0.889753</td>\n",
       "      <td>0.271021</td>\n",
       "      <td>0.989948</td>\n",
       "      <td>0.664173</td>\n",
       "      <td>1.000000</td>\n",
       "      <td>0.474226</td>\n",
       "      <td>0.358550</td>\n",
       "      <td>0.900547</td>\n",
       "      <td>0.955994</td>\n",
       "      <td>0.810916</td>\n",
       "    </tr>\n",
       "    <tr>\n",
       "      <th>SR</th>\n",
       "      <td>-0.730489</td>\n",
       "      <td>0.371328</td>\n",
       "      <td>0.581468</td>\n",
       "      <td>0.415060</td>\n",
       "      <td>0.517678</td>\n",
       "      <td>0.591306</td>\n",
       "      <td>0.474226</td>\n",
       "      <td>1.000000</td>\n",
       "      <td>0.135331</td>\n",
       "      <td>0.406029</td>\n",
       "      <td>0.465132</td>\n",
       "      <td>0.566317</td>\n",
       "    </tr>\n",
       "    <tr>\n",
       "      <th>100</th>\n",
       "      <td>-0.248353</td>\n",
       "      <td>0.128405</td>\n",
       "      <td>0.224328</td>\n",
       "      <td>0.019726</td>\n",
       "      <td>0.382577</td>\n",
       "      <td>0.233726</td>\n",
       "      <td>0.358550</td>\n",
       "      <td>0.135331</td>\n",
       "      <td>1.000000</td>\n",
       "      <td>0.292812</td>\n",
       "      <td>0.456622</td>\n",
       "      <td>0.186767</td>\n",
       "    </tr>\n",
       "    <tr>\n",
       "      <th>50</th>\n",
       "      <td>-0.769577</td>\n",
       "      <td>0.455437</td>\n",
       "      <td>0.755027</td>\n",
       "      <td>0.174184</td>\n",
       "      <td>0.912264</td>\n",
       "      <td>0.638326</td>\n",
       "      <td>0.900547</td>\n",
       "      <td>0.406029</td>\n",
       "      <td>0.292812</td>\n",
       "      <td>1.000000</td>\n",
       "      <td>0.892025</td>\n",
       "      <td>0.757501</td>\n",
       "    </tr>\n",
       "    <tr>\n",
       "      <th>4s</th>\n",
       "      <td>-0.846965</td>\n",
       "      <td>0.522628</td>\n",
       "      <td>0.846749</td>\n",
       "      <td>0.204779</td>\n",
       "      <td>0.959576</td>\n",
       "      <td>0.623643</td>\n",
       "      <td>0.955994</td>\n",
       "      <td>0.465132</td>\n",
       "      <td>0.456622</td>\n",
       "      <td>0.892025</td>\n",
       "      <td>1.000000</td>\n",
       "      <td>0.731094</td>\n",
       "    </tr>\n",
       "    <tr>\n",
       "      <th>6s</th>\n",
       "      <td>-0.808756</td>\n",
       "      <td>0.523367</td>\n",
       "      <td>0.810922</td>\n",
       "      <td>0.391472</td>\n",
       "      <td>0.861166</td>\n",
       "      <td>0.646224</td>\n",
       "      <td>0.810916</td>\n",
       "      <td>0.566317</td>\n",
       "      <td>0.186767</td>\n",
       "      <td>0.757501</td>\n",
       "      <td>0.731094</td>\n",
       "      <td>1.000000</td>\n",
       "    </tr>\n",
       "  </tbody>\n",
       "</table>\n",
       "</div>"
      ],
      "text/plain": [
       "           POS       Mat      Inns        NO      Runs       Avg        BF  \\\n",
       "POS   1.000000 -0.556695 -0.916174 -0.386247 -0.896664 -0.746510 -0.891969   \n",
       "Mat  -0.556695  1.000000  0.728358  0.555261  0.565237  0.306128  0.555102   \n",
       "Inns -0.916174  0.728358  1.000000  0.464356  0.895914  0.585148  0.889753   \n",
       "NO   -0.386247  0.555261  0.464356  1.000000  0.308747  0.429888  0.271021   \n",
       "Runs -0.896664  0.565237  0.895914  0.308747  1.000000  0.687475  0.989948   \n",
       "Avg  -0.746510  0.306128  0.585148  0.429888  0.687475  1.000000  0.664173   \n",
       "BF   -0.891969  0.555102  0.889753  0.271021  0.989948  0.664173  1.000000   \n",
       "SR   -0.730489  0.371328  0.581468  0.415060  0.517678  0.591306  0.474226   \n",
       "100  -0.248353  0.128405  0.224328  0.019726  0.382577  0.233726  0.358550   \n",
       "50   -0.769577  0.455437  0.755027  0.174184  0.912264  0.638326  0.900547   \n",
       "4s   -0.846965  0.522628  0.846749  0.204779  0.959576  0.623643  0.955994   \n",
       "6s   -0.808756  0.523367  0.810922  0.391472  0.861166  0.646224  0.810916   \n",
       "\n",
       "            SR       100        50        4s        6s  \n",
       "POS  -0.730489 -0.248353 -0.769577 -0.846965 -0.808756  \n",
       "Mat   0.371328  0.128405  0.455437  0.522628  0.523367  \n",
       "Inns  0.581468  0.224328  0.755027  0.846749  0.810922  \n",
       "NO    0.415060  0.019726  0.174184  0.204779  0.391472  \n",
       "Runs  0.517678  0.382577  0.912264  0.959576  0.861166  \n",
       "Avg   0.591306  0.233726  0.638326  0.623643  0.646224  \n",
       "BF    0.474226  0.358550  0.900547  0.955994  0.810916  \n",
       "SR    1.000000  0.135331  0.406029  0.465132  0.566317  \n",
       "100   0.135331  1.000000  0.292812  0.456622  0.186767  \n",
       "50    0.406029  0.292812  1.000000  0.892025  0.757501  \n",
       "4s    0.465132  0.456622  0.892025  1.000000  0.731094  \n",
       "6s    0.566317  0.186767  0.757501  0.731094  1.000000  "
      ]
     },
     "execution_count": 16,
     "metadata": {},
     "output_type": "execute_result"
    }
   ],
   "source": [
    "df.corr()"
   ]
  },
  {
   "cell_type": "code",
   "execution_count": 17,
   "id": "fac4272c",
   "metadata": {},
   "outputs": [
    {
     "name": "stderr",
     "output_type": "stream",
     "text": [
      "C:\\Users\\acer\\AppData\\Local\\Temp\\ipykernel_3188\\58359773.py:1: FutureWarning: The default value of numeric_only in DataFrame.corr is deprecated. In a future version, it will default to False. Select only valid columns or specify the value of numeric_only to silence this warning.\n",
      "  sns.heatmap(df.corr())\n"
     ]
    },
    {
     "data": {
      "text/plain": [
       "<AxesSubplot: >"
      ]
     },
     "execution_count": 17,
     "metadata": {},
     "output_type": "execute_result"
    },
    {
     "data": {
      "image/png": "[encoded data removed]",
      "text/plain": [
       "<Figure size 640x480 with 2 Axes>"
      ]
     },
     "metadata": {},
     "output_type": "display_data"
    }
   ],
   "source": [
    "sns.heatmap(df.corr())"
   ]
  },
  {
   "cell_type": "markdown",
   "id": "80e92a12",
   "metadata": {},
   "source": [
    "# Check the list of players who has an average greater than 50 as well strike rate above 120"
   ]
  },
  {
   "cell_type": "code",
   "execution_count": 18,
   "id": "a9a228fd",
   "metadata": {},
   "outputs": [],
   "source": [
    "df_Avg_SR = df[(df['Avg'] > 50) & (df['SR'] > 120)]"
   ]
  },
  {
   "cell_type": "code",
   "execution_count": 19,
   "id": "03120f40",
   "metadata": {},
   "outputs": [
    {
     "data": {
      "text/plain": [
       "0            KL Rahul\n",
       "4        Ishan Kishan\n",
       "31     Kieron Pollard\n",
       "36    Wriddhiman Saha\n",
       "37    Ruturaj Gaikwad\n",
       "57       Deepak Hooda\n",
       "60         Tom Curran\n",
       "Name: Player, dtype: object"
      ]
     },
     "execution_count": 19,
     "metadata": {},
     "output_type": "execute_result"
    }
   ],
   "source": [
    "df_Avg_SR['Player']"
   ]
  },
  {
   "cell_type": "markdown",
   "id": "325fb850",
   "metadata": {},
   "source": [
    "# Please check the list of players who has an average greater than 40 and balls faced above 100."
   ]
  },
  {
   "cell_type": "code",
   "execution_count": 20,
   "id": "52070a33",
   "metadata": {},
   "outputs": [
    {
     "data": {
      "text/plain": [
       "0            KL Rahul\n",
       "1      Shikhar Dhawan\n",
       "4        Ishan Kishan\n",
       "8         Virat Kohli\n",
       "9      AB de Villiers\n",
       "10     Faf du Plessis\n",
       "14        Eoin Morgan\n",
       "24    Kane Williamson\n",
       "27        Chris Gayle\n",
       "28         Ben Stokes\n",
       "31     Kieron Pollard\n",
       "32      Rahul Tewatia\n",
       "33    Ravindra Jadeja\n",
       "36    Wriddhiman Saha\n",
       "37    Ruturaj Gaikwad\n",
       "Name: Player, dtype: object"
      ]
     },
     "execution_count": 20,
     "metadata": {},
     "output_type": "execute_result"
    }
   ],
   "source": [
    "df_Avg_BF = df[(df['Avg'] > 40) & (df['BF'] > 100)]\n",
    "df_Avg_BF['Player']"
   ]
  },
  {
   "cell_type": "markdown",
   "id": "5705245f",
   "metadata": {},
   "source": [
    "# Please check the list of players who scored more than 300 runs with an average greater than 45 & strike rate above 130."
   ]
  },
  {
   "cell_type": "code",
   "execution_count": 21,
   "id": "72321c6b",
   "metadata": {},
   "outputs": [
    {
     "data": {
      "text/plain": [
       "4        Ishan Kishan\n",
       "9      AB de Villiers\n",
       "24    Kane Williamson\n",
       "Name: Player, dtype: object"
      ]
     },
     "execution_count": 21,
     "metadata": {},
     "output_type": "execute_result"
    }
   ],
   "source": [
    "df_Avg_R_A_S = df[(df['Runs'] > 300) & (df['Avg'] > 45) & (df['SR'] > 130)]\n",
    "df_Avg_R_A_S['Player']"
   ]
  },
  {
   "cell_type": "markdown",
   "id": "a5f6c8b5",
   "metadata": {},
   "source": [
    "# Players who scroed alteast one century in this season."
   ]
  },
  {
   "cell_type": "code",
   "execution_count": 22,
   "id": "56dd55c1",
   "metadata": {},
   "outputs": [],
   "source": [
    "dd_100=(df[(df['100']==1)])"
   ]
  },
  {
   "cell_type": "code",
   "execution_count": 23,
   "id": "b0624e60",
   "metadata": {},
   "outputs": [
    {
     "data": {
      "text/plain": [
       "0           KL Rahul\n",
       "13    Mayank Agarwal\n",
       "28        Ben Stokes\n",
       "Name: Player, dtype: object"
      ]
     },
     "execution_count": 23,
     "metadata": {},
     "output_type": "execute_result"
    }
   ],
   "source": [
    "dd_100['Player']"
   ]
  },
  {
   "cell_type": "markdown",
   "id": "97a5f9a8",
   "metadata": {},
   "source": [
    "# Q9. Players who scored atleast 4 half centuries in this season."
   ]
  },
  {
   "cell_type": "code",
   "execution_count": 24,
   "id": "df8ab0bc",
   "metadata": {},
   "outputs": [
    {
     "data": {
      "text/plain": [
       "14        Eoin Morgan\n",
       "16      Ambati Rayudu\n",
       "21       Rishabh Pant\n",
       "28         Ben Stokes\n",
       "29      Hardik Pandya\n",
       "30        Aaron Finch\n",
       "31     Kieron Pollard\n",
       "32      Rahul Tewatia\n",
       "33    Ravindra Jadeja\n",
       "34     Rahul Tripathi\n",
       "40         Sam Curran\n",
       "42     Dinesh Karthik\n",
       "43        Pat Cummins\n",
       "44        Priyam Garg\n",
       "45      Mandeep Singh\n",
       "47       Sunil Narine\n",
       "51     Ajinkya Rahane\n",
       "57       Deepak Hooda\n",
       "58      Vijay Shankar\n",
       "60         Tom Curran\n",
       "Name: Player, dtype: object"
      ]
     },
     "execution_count": 24,
     "metadata": {},
     "output_type": "execute_result"
    }
   ],
   "source": [
    "dd_50=(df[(df['50']==1)])\n",
    "dd_50['Player']"
   ]
  },
  {
   "cell_type": "markdown",
   "id": "c5b3736e",
   "metadata": {},
   "source": [
    "# Q10. Check the list of players who hit more than 45 boundARIES and more than 10 sixes in this season."
   ]
  },
  {
   "cell_type": "code",
   "execution_count": 25,
   "id": "4b1639e4",
   "metadata": {},
   "outputs": [
    {
     "data": {
      "text/plain": [
       "0            KL Rahul\n",
       "1      Shikhar Dhawan\n",
       "2        David Warner\n",
       "5     Quinton de Kock\n",
       "6    Suryakumar Yadav\n",
       "Name: Player, dtype: object"
      ]
     },
     "execution_count": 25,
     "metadata": {},
     "output_type": "execute_result"
    }
   ],
   "source": [
    "df_Avg_B_S_ = df[(df['4s'] > 45) & (df['6s'] > 10)]\n",
    "df_Avg_B_S_['Player']"
   ]
  },
  {
   "cell_type": "markdown",
   "id": "8f652b0a",
   "metadata": {},
   "source": [
    "# Q11. Plot a histogram of number of matches played in a season by players."
   ]
  },
  {
   "cell_type": "code",
   "execution_count": 26,
   "id": "a14b0d81",
   "metadata": {},
   "outputs": [
    {
     "data": {
      "image/png": "[encoded data removed]",
      "text/plain": [
       "<Figure size 640x480 with 1 Axes>"
      ]
     },
     "metadata": {},
     "output_type": "display_data"
    }
   ],
   "source": [
    "matches_per_season = df.groupby('Player')['Mat'].sum()\n",
    "\n",
    "# plot a histogram of matches played per season\n",
    "plt.hist(matches_per_season, bins=10)\n",
    "\n",
    "# add labels and a title\n",
    "plt.xlabel('Matches Played')\n",
    "plt.ylabel('Count')\n",
    "plt.title('Histogram of Matches Played per Season by Players')\n",
    "\n",
    "# show the plot\n",
    "plt.show()"
   ]
  },
  {
   "cell_type": "markdown",
   "id": "d65a0d32",
   "metadata": {},
   "source": [
    "# Q12. Plot the histogram of balls faced by players."
   ]
  },
  {
   "cell_type": "code",
   "execution_count": 27,
   "id": "1642699a",
   "metadata": {},
   "outputs": [
    {
     "data": {
      "image/png": "[encoded data removed]",
      "text/plain": [
       "<Figure size 640x480 with 1 Axes>"
      ]
     },
     "metadata": {},
     "output_type": "display_data"
    }
   ],
   "source": [
    "plt.hist(df['BF'], bins=10)\n",
    "\n",
    "# add labels and a title\n",
    "plt.xlabel('Ball Faced')\n",
    "plt.ylabel('Count')\n",
    "plt.title('Histogram of Ball Faced Buy Playes')\n",
    "\n",
    "# show the plot\n",
    "plt.show()"
   ]
  },
  {
   "cell_type": "markdown",
   "id": "2548d291",
   "metadata": {},
   "source": [
    "# Q13. Top 30 players with most runs in a season v/s matches played."
   ]
  },
  {
   "cell_type": "code",
   "execution_count": 42,
   "id": "d93324f4",
   "metadata": {},
   "outputs": [],
   "source": [
    "Top_MatchPlayed_Playes=df.sort_values(by=['Mat','Runs'],ascending=False)"
   ]
  },
  {
   "cell_type": "code",
   "execution_count": 52,
   "id": "1ea4203e",
   "metadata": {},
   "outputs": [],
   "source": [
    "Top_30_MatchPlayed_Playes=Top_MatchPlayed_Playes.iloc[:31,:]"
   ]
  },
  {
   "cell_type": "code",
   "execution_count": 59,
   "id": "71672495",
   "metadata": {},
   "outputs": [
    {
     "data": {
      "text/plain": [
       "1           Shikhar Dhawan\n",
       "3             Shreyas Iyer\n",
       "19          Marcus Stoinis\n",
       "67           Kagiso Rabada\n",
       "2             David Warner\n",
       "5          Quinton de Kock\n",
       "6         Suryakumar Yadav\n",
       "12           Manish Pandey\n",
       "31          Kieron Pollard\n",
       "54           Krunal Pandya\n",
       "73             Rashid Khan\n",
       "106          Anrich Nortje\n",
       "114            T Natarajan\n",
       "7         Devdutt Padikkal\n",
       "8              Virat Kohli\n",
       "9           AB de Villiers\n",
       "49              Axar Patel\n",
       "52       Washington Sundar\n",
       "72     Ravichandran Ashwin\n",
       "110         Jasprit Bumrah\n",
       "116           Rahul Chahar\n",
       "123       Yuzvendra Chahal\n",
       "132            Trent Boult\n",
       "0                 KL Rahul\n",
       "4             Ishan Kishan\n",
       "11            Shubman Gill\n",
       "14             Eoin Morgan\n",
       "15            Sanju Samson\n",
       "17         Nicholas Pooran\n",
       "18             Nitish Rana\n",
       "21            Rishabh Pant\n",
       "Name: Player, dtype: object"
      ]
     },
     "execution_count": 59,
     "metadata": {},
     "output_type": "execute_result"
    }
   ],
   "source": [
    "T_M_P=Top_30_MatchPlayed_Playes['Player']\n",
    "T_M_P"
   ]
  },
  {
   "cell_type": "code",
   "execution_count": 54,
   "id": "438dccd0",
   "metadata": {},
   "outputs": [],
   "source": [
    "Top_Run_Playes=df.sort_values(by=['Runs','Mat'],ascending=False)"
   ]
  },
  {
   "cell_type": "code",
   "execution_count": 55,
   "id": "4b04a34c",
   "metadata": {},
   "outputs": [],
   "source": [
    "Top_30_Run_Playes=Top_Run_Playes.iloc[:31,:]"
   ]
  },
  {
   "cell_type": "code",
   "execution_count": 60,
   "id": "233541eb",
   "metadata": {},
   "outputs": [
    {
     "data": {
      "text/plain": [
       "0             KL Rahul\n",
       "1       Shikhar Dhawan\n",
       "2         David Warner\n",
       "3         Shreyas Iyer\n",
       "4         Ishan Kishan\n",
       "5      Quinton de Kock\n",
       "6     Suryakumar Yadav\n",
       "7     Devdutt Padikkal\n",
       "8          Virat Kohli\n",
       "9       AB de Villiers\n",
       "10      Faf du Plessis\n",
       "11        Shubman Gill\n",
       "12       Manish Pandey\n",
       "13      Mayank Agarwal\n",
       "14         Eoin Morgan\n",
       "15        Sanju Samson\n",
       "16       Ambati Rayudu\n",
       "17     Nicholas Pooran\n",
       "19      Marcus Stoinis\n",
       "18         Nitish Rana\n",
       "20      Jonny Bairstow\n",
       "21        Rishabh Pant\n",
       "22        Rohit Sharma\n",
       "23         Jos Buttler\n",
       "24     Kane Williamson\n",
       "25         Steve Smith\n",
       "26        Shane Watson\n",
       "27         Chris Gayle\n",
       "28          Ben Stokes\n",
       "29       Hardik Pandya\n",
       "31      Kieron Pollard\n",
       "Name: Player, dtype: object"
      ]
     },
     "execution_count": 60,
     "metadata": {},
     "output_type": "execute_result"
    }
   ],
   "source": [
    "T_R_P=Top_30_Run_Playes['Player']\n",
    "T_R_P"
   ]
  },
  {
   "cell_type": "code",
   "execution_count": 62,
   "id": "87f5defc",
   "metadata": {},
   "outputs": [
    {
     "data": {
      "text/html": [
       "<div>\n",
       "<style scoped>\n",
       "    .dataframe tbody tr th:only-of-type {\n",
       "        vertical-align: middle;\n",
       "    }\n",
       "\n",
       "    .dataframe tbody tr th {\n",
       "        vertical-align: top;\n",
       "    }\n",
       "\n",
       "    .dataframe thead th {\n",
       "        text-align: right;\n",
       "    }\n",
       "</style>\n",
       "<table border=\"1\" class=\"dataframe\">\n",
       "  <thead>\n",
       "    <tr style=\"text-align: right;\">\n",
       "      <th></th>\n",
       "      <th>Top_30_Match_Players</th>\n",
       "      <th>Top_30_Run_Players</th>\n",
       "    </tr>\n",
       "  </thead>\n",
       "  <tbody>\n",
       "    <tr>\n",
       "      <th>0</th>\n",
       "      <td>KL Rahul</td>\n",
       "      <td>KL Rahul</td>\n",
       "    </tr>\n",
       "    <tr>\n",
       "      <th>1</th>\n",
       "      <td>Shikhar Dhawan</td>\n",
       "      <td>Shikhar Dhawan</td>\n",
       "    </tr>\n",
       "    <tr>\n",
       "      <th>2</th>\n",
       "      <td>David Warner</td>\n",
       "      <td>David Warner</td>\n",
       "    </tr>\n",
       "    <tr>\n",
       "      <th>3</th>\n",
       "      <td>Shreyas Iyer</td>\n",
       "      <td>Shreyas Iyer</td>\n",
       "    </tr>\n",
       "    <tr>\n",
       "      <th>4</th>\n",
       "      <td>Ishan Kishan</td>\n",
       "      <td>Ishan Kishan</td>\n",
       "    </tr>\n",
       "    <tr>\n",
       "      <th>5</th>\n",
       "      <td>Quinton de Kock</td>\n",
       "      <td>Quinton de Kock</td>\n",
       "    </tr>\n",
       "    <tr>\n",
       "      <th>6</th>\n",
       "      <td>Suryakumar Yadav</td>\n",
       "      <td>Suryakumar Yadav</td>\n",
       "    </tr>\n",
       "    <tr>\n",
       "      <th>7</th>\n",
       "      <td>Devdutt Padikkal</td>\n",
       "      <td>Devdutt Padikkal</td>\n",
       "    </tr>\n",
       "    <tr>\n",
       "      <th>8</th>\n",
       "      <td>Virat Kohli</td>\n",
       "      <td>Virat Kohli</td>\n",
       "    </tr>\n",
       "    <tr>\n",
       "      <th>9</th>\n",
       "      <td>AB de Villiers</td>\n",
       "      <td>AB de Villiers</td>\n",
       "    </tr>\n",
       "    <tr>\n",
       "      <th>10</th>\n",
       "      <td>NaN</td>\n",
       "      <td>Faf du Plessis</td>\n",
       "    </tr>\n",
       "    <tr>\n",
       "      <th>11</th>\n",
       "      <td>Shubman Gill</td>\n",
       "      <td>Shubman Gill</td>\n",
       "    </tr>\n",
       "    <tr>\n",
       "      <th>12</th>\n",
       "      <td>Manish Pandey</td>\n",
       "      <td>Manish Pandey</td>\n",
       "    </tr>\n",
       "    <tr>\n",
       "      <th>13</th>\n",
       "      <td>NaN</td>\n",
       "      <td>Mayank Agarwal</td>\n",
       "    </tr>\n",
       "    <tr>\n",
       "      <th>14</th>\n",
       "      <td>Eoin Morgan</td>\n",
       "      <td>Eoin Morgan</td>\n",
       "    </tr>\n",
       "    <tr>\n",
       "      <th>15</th>\n",
       "      <td>Sanju Samson</td>\n",
       "      <td>Sanju Samson</td>\n",
       "    </tr>\n",
       "    <tr>\n",
       "      <th>16</th>\n",
       "      <td>NaN</td>\n",
       "      <td>Ambati Rayudu</td>\n",
       "    </tr>\n",
       "    <tr>\n",
       "      <th>17</th>\n",
       "      <td>Nicholas Pooran</td>\n",
       "      <td>Nicholas Pooran</td>\n",
       "    </tr>\n",
       "    <tr>\n",
       "      <th>18</th>\n",
       "      <td>Nitish Rana</td>\n",
       "      <td>Nitish Rana</td>\n",
       "    </tr>\n",
       "    <tr>\n",
       "      <th>19</th>\n",
       "      <td>Marcus Stoinis</td>\n",
       "      <td>Marcus Stoinis</td>\n",
       "    </tr>\n",
       "    <tr>\n",
       "      <th>20</th>\n",
       "      <td>NaN</td>\n",
       "      <td>Jonny Bairstow</td>\n",
       "    </tr>\n",
       "    <tr>\n",
       "      <th>21</th>\n",
       "      <td>Rishabh Pant</td>\n",
       "      <td>Rishabh Pant</td>\n",
       "    </tr>\n",
       "    <tr>\n",
       "      <th>22</th>\n",
       "      <td>NaN</td>\n",
       "      <td>Rohit Sharma</td>\n",
       "    </tr>\n",
       "    <tr>\n",
       "      <th>23</th>\n",
       "      <td>NaN</td>\n",
       "      <td>Jos Buttler</td>\n",
       "    </tr>\n",
       "    <tr>\n",
       "      <th>24</th>\n",
       "      <td>NaN</td>\n",
       "      <td>Kane Williamson</td>\n",
       "    </tr>\n",
       "    <tr>\n",
       "      <th>25</th>\n",
       "      <td>NaN</td>\n",
       "      <td>Steve Smith</td>\n",
       "    </tr>\n",
       "    <tr>\n",
       "      <th>26</th>\n",
       "      <td>NaN</td>\n",
       "      <td>Shane Watson</td>\n",
       "    </tr>\n",
       "    <tr>\n",
       "      <th>27</th>\n",
       "      <td>NaN</td>\n",
       "      <td>Chris Gayle</td>\n",
       "    </tr>\n",
       "    <tr>\n",
       "      <th>28</th>\n",
       "      <td>NaN</td>\n",
       "      <td>Ben Stokes</td>\n",
       "    </tr>\n",
       "    <tr>\n",
       "      <th>29</th>\n",
       "      <td>NaN</td>\n",
       "      <td>Hardik Pandya</td>\n",
       "    </tr>\n",
       "    <tr>\n",
       "      <th>31</th>\n",
       "      <td>Kieron Pollard</td>\n",
       "      <td>Kieron Pollard</td>\n",
       "    </tr>\n",
       "    <tr>\n",
       "      <th>49</th>\n",
       "      <td>Axar Patel</td>\n",
       "      <td>NaN</td>\n",
       "    </tr>\n",
       "    <tr>\n",
       "      <th>52</th>\n",
       "      <td>Washington Sundar</td>\n",
       "      <td>NaN</td>\n",
       "    </tr>\n",
       "    <tr>\n",
       "      <th>54</th>\n",
       "      <td>Krunal Pandya</td>\n",
       "      <td>NaN</td>\n",
       "    </tr>\n",
       "    <tr>\n",
       "      <th>67</th>\n",
       "      <td>Kagiso Rabada</td>\n",
       "      <td>NaN</td>\n",
       "    </tr>\n",
       "    <tr>\n",
       "      <th>72</th>\n",
       "      <td>Ravichandran Ashwin</td>\n",
       "      <td>NaN</td>\n",
       "    </tr>\n",
       "    <tr>\n",
       "      <th>73</th>\n",
       "      <td>Rashid Khan</td>\n",
       "      <td>NaN</td>\n",
       "    </tr>\n",
       "    <tr>\n",
       "      <th>106</th>\n",
       "      <td>Anrich Nortje</td>\n",
       "      <td>NaN</td>\n",
       "    </tr>\n",
       "    <tr>\n",
       "      <th>110</th>\n",
       "      <td>Jasprit Bumrah</td>\n",
       "      <td>NaN</td>\n",
       "    </tr>\n",
       "    <tr>\n",
       "      <th>114</th>\n",
       "      <td>T Natarajan</td>\n",
       "      <td>NaN</td>\n",
       "    </tr>\n",
       "    <tr>\n",
       "      <th>116</th>\n",
       "      <td>Rahul Chahar</td>\n",
       "      <td>NaN</td>\n",
       "    </tr>\n",
       "    <tr>\n",
       "      <th>123</th>\n",
       "      <td>Yuzvendra Chahal</td>\n",
       "      <td>NaN</td>\n",
       "    </tr>\n",
       "    <tr>\n",
       "      <th>132</th>\n",
       "      <td>Trent Boult</td>\n",
       "      <td>NaN</td>\n",
       "    </tr>\n",
       "  </tbody>\n",
       "</table>\n",
       "</div>"
      ],
      "text/plain": [
       "    Top_30_Match_Players Top_30_Run_Players\n",
       "0               KL Rahul           KL Rahul\n",
       "1         Shikhar Dhawan     Shikhar Dhawan\n",
       "2           David Warner       David Warner\n",
       "3           Shreyas Iyer       Shreyas Iyer\n",
       "4           Ishan Kishan       Ishan Kishan\n",
       "5        Quinton de Kock    Quinton de Kock\n",
       "6       Suryakumar Yadav   Suryakumar Yadav\n",
       "7       Devdutt Padikkal   Devdutt Padikkal\n",
       "8            Virat Kohli        Virat Kohli\n",
       "9         AB de Villiers     AB de Villiers\n",
       "10                   NaN     Faf du Plessis\n",
       "11          Shubman Gill       Shubman Gill\n",
       "12         Manish Pandey      Manish Pandey\n",
       "13                   NaN     Mayank Agarwal\n",
       "14           Eoin Morgan        Eoin Morgan\n",
       "15          Sanju Samson       Sanju Samson\n",
       "16                   NaN      Ambati Rayudu\n",
       "17       Nicholas Pooran    Nicholas Pooran\n",
       "18           Nitish Rana        Nitish Rana\n",
       "19        Marcus Stoinis     Marcus Stoinis\n",
       "20                   NaN     Jonny Bairstow\n",
       "21          Rishabh Pant       Rishabh Pant\n",
       "22                   NaN       Rohit Sharma\n",
       "23                   NaN        Jos Buttler\n",
       "24                   NaN    Kane Williamson\n",
       "25                   NaN        Steve Smith\n",
       "26                   NaN       Shane Watson\n",
       "27                   NaN        Chris Gayle\n",
       "28                   NaN         Ben Stokes\n",
       "29                   NaN      Hardik Pandya\n",
       "31        Kieron Pollard     Kieron Pollard\n",
       "49            Axar Patel                NaN\n",
       "52     Washington Sundar                NaN\n",
       "54         Krunal Pandya                NaN\n",
       "67         Kagiso Rabada                NaN\n",
       "72   Ravichandran Ashwin                NaN\n",
       "73           Rashid Khan                NaN\n",
       "106        Anrich Nortje                NaN\n",
       "110       Jasprit Bumrah                NaN\n",
       "114          T Natarajan                NaN\n",
       "116         Rahul Chahar                NaN\n",
       "123     Yuzvendra Chahal                NaN\n",
       "132          Trent Boult                NaN"
      ]
     },
     "execution_count": 62,
     "metadata": {},
     "output_type": "execute_result"
    }
   ],
   "source": [
    "df1 = pd.DataFrame({'Top_30_Match_Players': T_M_P, 'Top_30_Run_Players': T_R_P})\n",
    "df1"
   ]
  },
  {
   "cell_type": "markdown",
   "id": "c15feecc",
   "metadata": {},
   "source": [
    "# Q14. Bar chart for top 20 players with best strike rate in a season."
   ]
  },
  {
   "cell_type": "code",
   "execution_count": 66,
   "id": "0db5b10c",
   "metadata": {},
   "outputs": [
    {
     "data": {
      "image/png": "[encoded data removed]",
      "text/plain": [
       "<Figure size 640x480 with 1 Axes>"
      ]
     },
     "metadata": {},
     "output_type": "display_data"
    }
   ],
   "source": [
    "df['SR']\n",
    "\n",
    "# Sort by strike rate in descending order and select top 20 players\n",
    "top_20 = df.sort_values(by='SR', ascending=False).head(20)\n",
    "\n",
    "# Create the bar chart\n",
    "plt.bar(top_20['Player'], top_20['SR'])\n",
    "plt.xticks(rotation=90)\n",
    "plt.xlabel('Player')\n",
    "plt.ylabel('Strike rate')\n",
    "plt.title('Top 20 players with best strike rate in season')\n",
    "plt.show()"
   ]
  },
  {
   "cell_type": "markdown",
   "id": "1c53ec88",
   "metadata": {},
   "source": [
    "# Q15. Top 30 players with highest number of sixes."
   ]
  },
  {
   "cell_type": "code",
   "execution_count": 72,
   "id": "540b1134",
   "metadata": {},
   "outputs": [
    {
     "data": {
      "text/html": [
       "<div>\n",
       "<style scoped>\n",
       "    .dataframe tbody tr th:only-of-type {\n",
       "        vertical-align: middle;\n",
       "    }\n",
       "\n",
       "    .dataframe tbody tr th {\n",
       "        vertical-align: top;\n",
       "    }\n",
       "\n",
       "    .dataframe thead th {\n",
       "        text-align: right;\n",
       "    }\n",
       "</style>\n",
       "<table border=\"1\" class=\"dataframe\">\n",
       "  <thead>\n",
       "    <tr style=\"text-align: right;\">\n",
       "      <th></th>\n",
       "      <th>POS</th>\n",
       "      <th>Player</th>\n",
       "      <th>Mat</th>\n",
       "      <th>Inns</th>\n",
       "      <th>NO</th>\n",
       "      <th>Runs</th>\n",
       "      <th>HS</th>\n",
       "      <th>Avg</th>\n",
       "      <th>BF</th>\n",
       "      <th>SR</th>\n",
       "      <th>100</th>\n",
       "      <th>50</th>\n",
       "      <th>4s</th>\n",
       "      <th>6s</th>\n",
       "    </tr>\n",
       "  </thead>\n",
       "  <tbody>\n",
       "    <tr>\n",
       "      <th>4</th>\n",
       "      <td>5</td>\n",
       "      <td>Ishan Kishan</td>\n",
       "      <td>14</td>\n",
       "      <td>13</td>\n",
       "      <td>4</td>\n",
       "      <td>516</td>\n",
       "      <td>99</td>\n",
       "      <td>57.33</td>\n",
       "      <td>354</td>\n",
       "      <td>145.76</td>\n",
       "      <td>0</td>\n",
       "      <td>4</td>\n",
       "      <td>36</td>\n",
       "      <td>30</td>\n",
       "    </tr>\n",
       "    <tr>\n",
       "      <th>15</th>\n",
       "      <td>16</td>\n",
       "      <td>Sanju Samson</td>\n",
       "      <td>14</td>\n",
       "      <td>14</td>\n",
       "      <td>1</td>\n",
       "      <td>375</td>\n",
       "      <td>85</td>\n",
       "      <td>28.84</td>\n",
       "      <td>236</td>\n",
       "      <td>158.89</td>\n",
       "      <td>0</td>\n",
       "      <td>3</td>\n",
       "      <td>21</td>\n",
       "      <td>26</td>\n",
       "    </tr>\n",
       "    <tr>\n",
       "      <th>29</th>\n",
       "      <td>30</td>\n",
       "      <td>Hardik Pandya</td>\n",
       "      <td>14</td>\n",
       "      <td>13</td>\n",
       "      <td>5</td>\n",
       "      <td>281</td>\n",
       "      <td>60*</td>\n",
       "      <td>35.12</td>\n",
       "      <td>157</td>\n",
       "      <td>178.98</td>\n",
       "      <td>0</td>\n",
       "      <td>1</td>\n",
       "      <td>14</td>\n",
       "      <td>25</td>\n",
       "    </tr>\n",
       "    <tr>\n",
       "      <th>17</th>\n",
       "      <td>18</td>\n",
       "      <td>Nicholas Pooran</td>\n",
       "      <td>14</td>\n",
       "      <td>14</td>\n",
       "      <td>4</td>\n",
       "      <td>353</td>\n",
       "      <td>77</td>\n",
       "      <td>35.30</td>\n",
       "      <td>208</td>\n",
       "      <td>169.71</td>\n",
       "      <td>0</td>\n",
       "      <td>2</td>\n",
       "      <td>23</td>\n",
       "      <td>25</td>\n",
       "    </tr>\n",
       "    <tr>\n",
       "      <th>14</th>\n",
       "      <td>15</td>\n",
       "      <td>Eoin Morgan</td>\n",
       "      <td>14</td>\n",
       "      <td>14</td>\n",
       "      <td>4</td>\n",
       "      <td>418</td>\n",
       "      <td>68*</td>\n",
       "      <td>41.80</td>\n",
       "      <td>302</td>\n",
       "      <td>138.41</td>\n",
       "      <td>0</td>\n",
       "      <td>1</td>\n",
       "      <td>32</td>\n",
       "      <td>24</td>\n",
       "    </tr>\n",
       "    <tr>\n",
       "      <th>9</th>\n",
       "      <td>10</td>\n",
       "      <td>AB de Villiers</td>\n",
       "      <td>15</td>\n",
       "      <td>14</td>\n",
       "      <td>4</td>\n",
       "      <td>454</td>\n",
       "      <td>73*</td>\n",
       "      <td>45.40</td>\n",
       "      <td>286</td>\n",
       "      <td>158.74</td>\n",
       "      <td>0</td>\n",
       "      <td>5</td>\n",
       "      <td>33</td>\n",
       "      <td>23</td>\n",
       "    </tr>\n",
       "    <tr>\n",
       "      <th>27</th>\n",
       "      <td>28</td>\n",
       "      <td>Chris Gayle</td>\n",
       "      <td>7</td>\n",
       "      <td>7</td>\n",
       "      <td>0</td>\n",
       "      <td>288</td>\n",
       "      <td>99</td>\n",
       "      <td>41.14</td>\n",
       "      <td>210</td>\n",
       "      <td>137.14</td>\n",
       "      <td>0</td>\n",
       "      <td>3</td>\n",
       "      <td>15</td>\n",
       "      <td>23</td>\n",
       "    </tr>\n",
       "    <tr>\n",
       "      <th>0</th>\n",
       "      <td>1</td>\n",
       "      <td>KL Rahul</td>\n",
       "      <td>14</td>\n",
       "      <td>14</td>\n",
       "      <td>2</td>\n",
       "      <td>670</td>\n",
       "      <td>132*</td>\n",
       "      <td>55.83</td>\n",
       "      <td>518</td>\n",
       "      <td>129.34</td>\n",
       "      <td>1</td>\n",
       "      <td>5</td>\n",
       "      <td>58</td>\n",
       "      <td>23</td>\n",
       "    </tr>\n",
       "    <tr>\n",
       "      <th>31</th>\n",
       "      <td>32</td>\n",
       "      <td>Kieron Pollard</td>\n",
       "      <td>16</td>\n",
       "      <td>12</td>\n",
       "      <td>7</td>\n",
       "      <td>268</td>\n",
       "      <td>60*</td>\n",
       "      <td>53.60</td>\n",
       "      <td>140</td>\n",
       "      <td>191.42</td>\n",
       "      <td>0</td>\n",
       "      <td>1</td>\n",
       "      <td>15</td>\n",
       "      <td>22</td>\n",
       "    </tr>\n",
       "    <tr>\n",
       "      <th>5</th>\n",
       "      <td>6</td>\n",
       "      <td>Quinton de Kock</td>\n",
       "      <td>16</td>\n",
       "      <td>16</td>\n",
       "      <td>2</td>\n",
       "      <td>503</td>\n",
       "      <td>78*</td>\n",
       "      <td>35.92</td>\n",
       "      <td>358</td>\n",
       "      <td>140.50</td>\n",
       "      <td>0</td>\n",
       "      <td>4</td>\n",
       "      <td>46</td>\n",
       "      <td>22</td>\n",
       "    </tr>\n",
       "    <tr>\n",
       "      <th>22</th>\n",
       "      <td>23</td>\n",
       "      <td>Rohit Sharma</td>\n",
       "      <td>12</td>\n",
       "      <td>12</td>\n",
       "      <td>0</td>\n",
       "      <td>332</td>\n",
       "      <td>80</td>\n",
       "      <td>27.66</td>\n",
       "      <td>260</td>\n",
       "      <td>127.69</td>\n",
       "      <td>0</td>\n",
       "      <td>3</td>\n",
       "      <td>27</td>\n",
       "      <td>19</td>\n",
       "    </tr>\n",
       "    <tr>\n",
       "      <th>12</th>\n",
       "      <td>13</td>\n",
       "      <td>Manish Pandey</td>\n",
       "      <td>16</td>\n",
       "      <td>15</td>\n",
       "      <td>2</td>\n",
       "      <td>425</td>\n",
       "      <td>83*</td>\n",
       "      <td>32.69</td>\n",
       "      <td>333</td>\n",
       "      <td>127.62</td>\n",
       "      <td>0</td>\n",
       "      <td>3</td>\n",
       "      <td>35</td>\n",
       "      <td>18</td>\n",
       "    </tr>\n",
       "    <tr>\n",
       "      <th>32</th>\n",
       "      <td>33</td>\n",
       "      <td>Rahul Tewatia</td>\n",
       "      <td>14</td>\n",
       "      <td>11</td>\n",
       "      <td>5</td>\n",
       "      <td>255</td>\n",
       "      <td>53</td>\n",
       "      <td>42.50</td>\n",
       "      <td>183</td>\n",
       "      <td>139.34</td>\n",
       "      <td>0</td>\n",
       "      <td>1</td>\n",
       "      <td>13</td>\n",
       "      <td>17</td>\n",
       "    </tr>\n",
       "    <tr>\n",
       "      <th>3</th>\n",
       "      <td>4</td>\n",
       "      <td>Shreyas Iyer</td>\n",
       "      <td>17</td>\n",
       "      <td>17</td>\n",
       "      <td>2</td>\n",
       "      <td>519</td>\n",
       "      <td>88*</td>\n",
       "      <td>34.60</td>\n",
       "      <td>421</td>\n",
       "      <td>123.27</td>\n",
       "      <td>0</td>\n",
       "      <td>3</td>\n",
       "      <td>40</td>\n",
       "      <td>16</td>\n",
       "    </tr>\n",
       "    <tr>\n",
       "      <th>23</th>\n",
       "      <td>24</td>\n",
       "      <td>Jos Buttler</td>\n",
       "      <td>13</td>\n",
       "      <td>12</td>\n",
       "      <td>2</td>\n",
       "      <td>328</td>\n",
       "      <td>70*</td>\n",
       "      <td>32.80</td>\n",
       "      <td>227</td>\n",
       "      <td>144.49</td>\n",
       "      <td>0</td>\n",
       "      <td>2</td>\n",
       "      <td>27</td>\n",
       "      <td>16</td>\n",
       "    </tr>\n",
       "    <tr>\n",
       "      <th>19</th>\n",
       "      <td>20</td>\n",
       "      <td>Marcus Stoinis</td>\n",
       "      <td>17</td>\n",
       "      <td>17</td>\n",
       "      <td>3</td>\n",
       "      <td>352</td>\n",
       "      <td>65</td>\n",
       "      <td>25.14</td>\n",
       "      <td>237</td>\n",
       "      <td>148.52</td>\n",
       "      <td>0</td>\n",
       "      <td>3</td>\n",
       "      <td>31</td>\n",
       "      <td>16</td>\n",
       "    </tr>\n",
       "    <tr>\n",
       "      <th>13</th>\n",
       "      <td>14</td>\n",
       "      <td>Mayank Agarwal</td>\n",
       "      <td>11</td>\n",
       "      <td>11</td>\n",
       "      <td>0</td>\n",
       "      <td>424</td>\n",
       "      <td>106</td>\n",
       "      <td>38.54</td>\n",
       "      <td>271</td>\n",
       "      <td>156.45</td>\n",
       "      <td>1</td>\n",
       "      <td>2</td>\n",
       "      <td>44</td>\n",
       "      <td>15</td>\n",
       "    </tr>\n",
       "    <tr>\n",
       "      <th>10</th>\n",
       "      <td>11</td>\n",
       "      <td>Faf du Plessis</td>\n",
       "      <td>13</td>\n",
       "      <td>13</td>\n",
       "      <td>2</td>\n",
       "      <td>449</td>\n",
       "      <td>87*</td>\n",
       "      <td>40.81</td>\n",
       "      <td>319</td>\n",
       "      <td>140.75</td>\n",
       "      <td>0</td>\n",
       "      <td>4</td>\n",
       "      <td>42</td>\n",
       "      <td>14</td>\n",
       "    </tr>\n",
       "    <tr>\n",
       "      <th>2</th>\n",
       "      <td>3</td>\n",
       "      <td>David Warner</td>\n",
       "      <td>16</td>\n",
       "      <td>16</td>\n",
       "      <td>2</td>\n",
       "      <td>548</td>\n",
       "      <td>85*</td>\n",
       "      <td>39.14</td>\n",
       "      <td>407</td>\n",
       "      <td>134.64</td>\n",
       "      <td>0</td>\n",
       "      <td>4</td>\n",
       "      <td>52</td>\n",
       "      <td>14</td>\n",
       "    </tr>\n",
       "    <tr>\n",
       "      <th>20</th>\n",
       "      <td>21</td>\n",
       "      <td>Jonny Bairstow</td>\n",
       "      <td>11</td>\n",
       "      <td>11</td>\n",
       "      <td>0</td>\n",
       "      <td>345</td>\n",
       "      <td>97</td>\n",
       "      <td>31.36</td>\n",
       "      <td>272</td>\n",
       "      <td>126.83</td>\n",
       "      <td>0</td>\n",
       "      <td>3</td>\n",
       "      <td>31</td>\n",
       "      <td>13</td>\n",
       "    </tr>\n",
       "    <tr>\n",
       "      <th>26</th>\n",
       "      <td>27</td>\n",
       "      <td>Shane Watson</td>\n",
       "      <td>11</td>\n",
       "      <td>11</td>\n",
       "      <td>1</td>\n",
       "      <td>299</td>\n",
       "      <td>83*</td>\n",
       "      <td>29.90</td>\n",
       "      <td>247</td>\n",
       "      <td>121.05</td>\n",
       "      <td>0</td>\n",
       "      <td>2</td>\n",
       "      <td>33</td>\n",
       "      <td>13</td>\n",
       "    </tr>\n",
       "    <tr>\n",
       "      <th>40</th>\n",
       "      <td>41</td>\n",
       "      <td>Sam Curran</td>\n",
       "      <td>14</td>\n",
       "      <td>11</td>\n",
       "      <td>3</td>\n",
       "      <td>186</td>\n",
       "      <td>52</td>\n",
       "      <td>23.25</td>\n",
       "      <td>141</td>\n",
       "      <td>131.91</td>\n",
       "      <td>0</td>\n",
       "      <td>1</td>\n",
       "      <td>12</td>\n",
       "      <td>12</td>\n",
       "    </tr>\n",
       "    <tr>\n",
       "      <th>18</th>\n",
       "      <td>19</td>\n",
       "      <td>Nitish Rana</td>\n",
       "      <td>14</td>\n",
       "      <td>14</td>\n",
       "      <td>0</td>\n",
       "      <td>352</td>\n",
       "      <td>87</td>\n",
       "      <td>25.14</td>\n",
       "      <td>254</td>\n",
       "      <td>138.58</td>\n",
       "      <td>0</td>\n",
       "      <td>3</td>\n",
       "      <td>43</td>\n",
       "      <td>12</td>\n",
       "    </tr>\n",
       "    <tr>\n",
       "      <th>16</th>\n",
       "      <td>17</td>\n",
       "      <td>Ambati Rayudu</td>\n",
       "      <td>12</td>\n",
       "      <td>11</td>\n",
       "      <td>2</td>\n",
       "      <td>359</td>\n",
       "      <td>71</td>\n",
       "      <td>39.88</td>\n",
       "      <td>282</td>\n",
       "      <td>127.30</td>\n",
       "      <td>0</td>\n",
       "      <td>1</td>\n",
       "      <td>30</td>\n",
       "      <td>12</td>\n",
       "    </tr>\n",
       "    <tr>\n",
       "      <th>41</th>\n",
       "      <td>42</td>\n",
       "      <td>Shimron Hetmyer</td>\n",
       "      <td>12</td>\n",
       "      <td>11</td>\n",
       "      <td>3</td>\n",
       "      <td>185</td>\n",
       "      <td>45</td>\n",
       "      <td>23.12</td>\n",
       "      <td>125</td>\n",
       "      <td>148.00</td>\n",
       "      <td>0</td>\n",
       "      <td>0</td>\n",
       "      <td>11</td>\n",
       "      <td>12</td>\n",
       "    </tr>\n",
       "    <tr>\n",
       "      <th>1</th>\n",
       "      <td>2</td>\n",
       "      <td>Shikhar Dhawan</td>\n",
       "      <td>17</td>\n",
       "      <td>17</td>\n",
       "      <td>3</td>\n",
       "      <td>618</td>\n",
       "      <td>106*</td>\n",
       "      <td>44.14</td>\n",
       "      <td>427</td>\n",
       "      <td>144.73</td>\n",
       "      <td>2</td>\n",
       "      <td>4</td>\n",
       "      <td>67</td>\n",
       "      <td>12</td>\n",
       "    </tr>\n",
       "    <tr>\n",
       "      <th>8</th>\n",
       "      <td>9</td>\n",
       "      <td>Virat Kohli</td>\n",
       "      <td>15</td>\n",
       "      <td>15</td>\n",
       "      <td>4</td>\n",
       "      <td>466</td>\n",
       "      <td>90*</td>\n",
       "      <td>42.36</td>\n",
       "      <td>384</td>\n",
       "      <td>121.35</td>\n",
       "      <td>0</td>\n",
       "      <td>3</td>\n",
       "      <td>23</td>\n",
       "      <td>11</td>\n",
       "    </tr>\n",
       "    <tr>\n",
       "      <th>33</th>\n",
       "      <td>34</td>\n",
       "      <td>Ravindra Jadeja</td>\n",
       "      <td>14</td>\n",
       "      <td>11</td>\n",
       "      <td>6</td>\n",
       "      <td>232</td>\n",
       "      <td>50</td>\n",
       "      <td>46.40</td>\n",
       "      <td>135</td>\n",
       "      <td>171.85</td>\n",
       "      <td>0</td>\n",
       "      <td>1</td>\n",
       "      <td>22</td>\n",
       "      <td>11</td>\n",
       "    </tr>\n",
       "    <tr>\n",
       "      <th>6</th>\n",
       "      <td>7</td>\n",
       "      <td>Suryakumar Yadav</td>\n",
       "      <td>16</td>\n",
       "      <td>15</td>\n",
       "      <td>3</td>\n",
       "      <td>480</td>\n",
       "      <td>79*</td>\n",
       "      <td>40.00</td>\n",
       "      <td>331</td>\n",
       "      <td>145.01</td>\n",
       "      <td>0</td>\n",
       "      <td>4</td>\n",
       "      <td>61</td>\n",
       "      <td>11</td>\n",
       "    </tr>\n",
       "    <tr>\n",
       "      <th>24</th>\n",
       "      <td>25</td>\n",
       "      <td>Kane Williamson</td>\n",
       "      <td>12</td>\n",
       "      <td>11</td>\n",
       "      <td>4</td>\n",
       "      <td>317</td>\n",
       "      <td>67</td>\n",
       "      <td>45.28</td>\n",
       "      <td>237</td>\n",
       "      <td>133.75</td>\n",
       "      <td>0</td>\n",
       "      <td>3</td>\n",
       "      <td>26</td>\n",
       "      <td>10</td>\n",
       "    </tr>\n",
       "  </tbody>\n",
       "</table>\n",
       "</div>"
      ],
      "text/plain": [
       "    POS            Player  Mat  Inns  NO  Runs    HS    Avg   BF      SR  100  \\\n",
       "4     5      Ishan Kishan   14    13   4   516    99  57.33  354  145.76    0   \n",
       "15   16      Sanju Samson   14    14   1   375    85  28.84  236  158.89    0   \n",
       "29   30     Hardik Pandya   14    13   5   281   60*  35.12  157  178.98    0   \n",
       "17   18   Nicholas Pooran   14    14   4   353    77  35.30  208  169.71    0   \n",
       "14   15       Eoin Morgan   14    14   4   418   68*  41.80  302  138.41    0   \n",
       "9    10    AB de Villiers   15    14   4   454   73*  45.40  286  158.74    0   \n",
       "27   28       Chris Gayle    7     7   0   288    99  41.14  210  137.14    0   \n",
       "0     1          KL Rahul   14    14   2   670  132*  55.83  518  129.34    1   \n",
       "31   32    Kieron Pollard   16    12   7   268   60*  53.60  140  191.42    0   \n",
       "5     6   Quinton de Kock   16    16   2   503   78*  35.92  358  140.50    0   \n",
       "22   23      Rohit Sharma   12    12   0   332    80  27.66  260  127.69    0   \n",
       "12   13     Manish Pandey   16    15   2   425   83*  32.69  333  127.62    0   \n",
       "32   33     Rahul Tewatia   14    11   5   255    53  42.50  183  139.34    0   \n",
       "3     4      Shreyas Iyer   17    17   2   519   88*  34.60  421  123.27    0   \n",
       "23   24       Jos Buttler   13    12   2   328   70*  32.80  227  144.49    0   \n",
       "19   20    Marcus Stoinis   17    17   3   352    65  25.14  237  148.52    0   \n",
       "13   14    Mayank Agarwal   11    11   0   424   106  38.54  271  156.45    1   \n",
       "10   11    Faf du Plessis   13    13   2   449   87*  40.81  319  140.75    0   \n",
       "2     3      David Warner   16    16   2   548   85*  39.14  407  134.64    0   \n",
       "20   21    Jonny Bairstow   11    11   0   345    97  31.36  272  126.83    0   \n",
       "26   27      Shane Watson   11    11   1   299   83*  29.90  247  121.05    0   \n",
       "40   41        Sam Curran   14    11   3   186    52  23.25  141  131.91    0   \n",
       "18   19       Nitish Rana   14    14   0   352    87  25.14  254  138.58    0   \n",
       "16   17     Ambati Rayudu   12    11   2   359    71  39.88  282  127.30    0   \n",
       "41   42   Shimron Hetmyer   12    11   3   185    45  23.12  125  148.00    0   \n",
       "1     2    Shikhar Dhawan   17    17   3   618  106*  44.14  427  144.73    2   \n",
       "8     9       Virat Kohli   15    15   4   466   90*  42.36  384  121.35    0   \n",
       "33   34   Ravindra Jadeja   14    11   6   232    50  46.40  135  171.85    0   \n",
       "6     7  Suryakumar Yadav   16    15   3   480   79*  40.00  331  145.01    0   \n",
       "24   25   Kane Williamson   12    11   4   317    67  45.28  237  133.75    0   \n",
       "\n",
       "    50  4s  6s  \n",
       "4    4  36  30  \n",
       "15   3  21  26  \n",
       "29   1  14  25  \n",
       "17   2  23  25  \n",
       "14   1  32  24  \n",
       "9    5  33  23  \n",
       "27   3  15  23  \n",
       "0    5  58  23  \n",
       "31   1  15  22  \n",
       "5    4  46  22  \n",
       "22   3  27  19  \n",
       "12   3  35  18  \n",
       "32   1  13  17  \n",
       "3    3  40  16  \n",
       "23   2  27  16  \n",
       "19   3  31  16  \n",
       "13   2  44  15  \n",
       "10   4  42  14  \n",
       "2    4  52  14  \n",
       "20   3  31  13  \n",
       "26   2  33  13  \n",
       "40   1  12  12  \n",
       "18   3  43  12  \n",
       "16   1  30  12  \n",
       "41   0  11  12  \n",
       "1    4  67  12  \n",
       "8    3  23  11  \n",
       "33   1  22  11  \n",
       "6    4  61  11  \n",
       "24   3  26  10  "
      ]
     },
     "execution_count": 72,
     "metadata": {},
     "output_type": "execute_result"
    }
   ],
   "source": [
    "Top_30_6s=df.sort_values(by=['6s'],ascending=False).head(30)\n",
    "Top_30_6s"
   ]
  },
  {
   "cell_type": "code",
   "execution_count": 73,
   "id": "6ecb9077",
   "metadata": {},
   "outputs": [
    {
     "data": {
      "text/plain": [
       "4         Ishan Kishan\n",
       "15        Sanju Samson\n",
       "29       Hardik Pandya\n",
       "17     Nicholas Pooran\n",
       "14         Eoin Morgan\n",
       "9       AB de Villiers\n",
       "27         Chris Gayle\n",
       "0             KL Rahul\n",
       "31      Kieron Pollard\n",
       "5      Quinton de Kock\n",
       "22        Rohit Sharma\n",
       "12       Manish Pandey\n",
       "32       Rahul Tewatia\n",
       "3         Shreyas Iyer\n",
       "23         Jos Buttler\n",
       "19      Marcus Stoinis\n",
       "13      Mayank Agarwal\n",
       "10      Faf du Plessis\n",
       "2         David Warner\n",
       "20      Jonny Bairstow\n",
       "26        Shane Watson\n",
       "40          Sam Curran\n",
       "18         Nitish Rana\n",
       "16       Ambati Rayudu\n",
       "41     Shimron Hetmyer\n",
       "1       Shikhar Dhawan\n",
       "8          Virat Kohli\n",
       "33     Ravindra Jadeja\n",
       "6     Suryakumar Yadav\n",
       "24     Kane Williamson\n",
       "Name: Player, dtype: object"
      ]
     },
     "execution_count": 73,
     "metadata": {},
     "output_type": "execute_result"
    }
   ],
   "source": [
    "Top_30_6s['Player']"
   ]
  },
  {
   "cell_type": "code",
   "execution_count": 74,
   "id": "e8e6998e",
   "metadata": {},
   "outputs": [],
   "source": [
    "# Q16. Scatter plot of runs scored by a player v/s balls faced in a season."
   ]
  },
  {
   "cell_type": "code",
   "execution_count": 76,
   "id": "8b57142b",
   "metadata": {},
   "outputs": [
    {
     "data": {
      "image/png": "[encoded data removed]",
      "text/plain": [
       "<Figure size 640x480 with 1 Axes>"
      ]
     },
     "metadata": {},
     "output_type": "display_data"
    }
   ],
   "source": [
    "# Create the scatter plot\n",
    "plt.scatter(df['BF'], df['Runs'])\n",
    "plt.xlabel('Balls faced')\n",
    "plt.ylabel('Runs scored')\n",
    "plt.title('Runs scored vs balls faced by player in season ')\n",
    "plt.show()"
   ]
  },
  {
   "cell_type": "markdown",
   "id": "873b6061",
   "metadata": {},
   "source": [
    "# Q17. KDE plot for averages in a season."
   ]
  },
  {
   "cell_type": "code",
   "execution_count": 80,
   "id": "2dabbd23",
   "metadata": {},
   "outputs": [
    {
     "name": "stderr",
     "output_type": "stream",
     "text": [
      "C:\\Users\\acer\\AppData\\Local\\Temp\\ipykernel_3188\\3556694676.py:1: FutureWarning: \n",
      "\n",
      "`shade` is now deprecated in favor of `fill`; setting `fill=True`.\n",
      "This will become an error in seaborn v0.14.0; please update your code.\n",
      "\n",
      "  sns.kdeplot(df['Avg'], shade=True)\n"
     ]
    },
    {
     "data": {
      "image/png": "[encoded data removed]",
      "text/plain": [
       "<Figure size 640x480 with 1 Axes>"
      ]
     },
     "metadata": {},
     "output_type": "display_data"
    }
   ],
   "source": [
    "sns.kdeplot(df['Avg'], shade=True)\n",
    "sns.despine()\n",
    "plt.xlabel('Average')\n",
    "plt.ylabel('Density')\n",
    "plt.title('Distribution of averages in season')\n",
    "plt.show()"
   ]
  },
  {
   "cell_type": "code",
   "execution_count": null,
   "id": "f45fc4b0",
   "metadata": {},
   "outputs": [],
   "source": []
  }
 ],
 "metadata": {
  "kernelspec": {
   "display_name": "Python 3 (ipykernel)",
   "language": "python",
   "name": "python3"
  },
  "language_info": {
   "codemirror_mode": {
    "name": "ipython",
    "version": 3
   },
   "file_extension": ".py",
   "mimetype": "text/x-python",
   "name": "python",
   "nbconvert_exporter": "python",
   "pygments_lexer": "ipython3",
   "version": "3.10.9"
  }
 },
 "nbformat": 4,
 "nbformat_minor": 5
}
